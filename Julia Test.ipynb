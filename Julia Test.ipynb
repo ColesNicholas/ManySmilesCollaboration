{
 "cells": [
  {
   "cell_type": "code",
   "execution_count": 60,
   "id": "d41205e2",
   "metadata": {},
   "outputs": [
    {
     "name": "stderr",
     "output_type": "stream",
     "text": [
      "\u001b[32m\u001b[1m   Resolving\u001b[22m\u001b[39m package versions...\n",
      "\u001b[32m\u001b[1m  No Changes\u001b[22m\u001b[39m to `C:\\Users\\ncole\\.julia\\environments\\v1.6\\Project.toml`\n",
      "\u001b[32m\u001b[1m  No Changes\u001b[22m\u001b[39m to `C:\\Users\\ncole\\.julia\\environments\\v1.6\\Manifest.toml`\n",
      "\u001b[32m\u001b[1m   Resolving\u001b[22m\u001b[39m package versions...\n",
      "\u001b[32m\u001b[1m  No Changes\u001b[22m\u001b[39m to `C:\\Users\\ncole\\.julia\\environments\\v1.6\\Project.toml`\n",
      "\u001b[32m\u001b[1m  No Changes\u001b[22m\u001b[39m to `C:\\Users\\ncole\\.julia\\environments\\v1.6\\Manifest.toml`\n",
      "\u001b[32m\u001b[1m   Resolving\u001b[22m\u001b[39m package versions...\n",
      "\u001b[32m\u001b[1m  No Changes\u001b[22m\u001b[39m to `C:\\Users\\ncole\\.julia\\environments\\v1.6\\Project.toml`\n",
      "\u001b[32m\u001b[1m  No Changes\u001b[22m\u001b[39m to `C:\\Users\\ncole\\.julia\\environments\\v1.6\\Manifest.toml`\n"
     ]
    },
    {
     "data": {
      "text/plain": [
       "\"lmerTest::lmer\""
      ]
     },
     "execution_count": 60,
     "metadata": {},
     "output_type": "execute_result"
    }
   ],
   "source": [
    "using Pkg\n",
    "Pkg.add(\"MixedModels\")\n",
    "Pkg.add(\"RCall\")\n",
    "Pkg.add(\"JellyMe4\")\n",
    "ENV[\"LMER\"] = \"lmerTest::lmer\""
   ]
  },
  {
   "cell_type": "code",
   "execution_count": 49,
   "id": "d3fbfdf8",
   "metadata": {},
   "outputs": [
    {
     "name": "stderr",
     "output_type": "stream",
     "text": [
      "┌ Warning: ProgressMeter by default refresh meters with additional information in IJulia via `IJulia.clear_output`, which clears all outputs in the cell. \n",
      "│  - To prevent this behaviour, do `ProgressMeter.ijulia_behavior(:append)`. \n",
      "│  - To disable this warning message, do `ProgressMeter.ijulia_behavior(:clear)`.\n",
      "└ @ ProgressMeter C:\\Users\\ncole\\.julia\\packages\\ProgressMeter\\Vf8un\\src\\ProgressMeter.jl:620\n",
      "\r",
      "\u001b[32mMinimizing 4710 \t Time: 0:00:07 ( 1.64 ms/it)\u001b[39m\n"
     ]
    },
    {
     "data": {
      "text/latex": [
       "\\begin{tabular}\n",
       "{l | r | r | r | r | r | r}\n",
       " & Est. & SE & z & p & $\\sigma_\\text{ResponseId}$ & $\\sigma_\\text{lab}$ \\\\\n",
       "\\hline\n",
       "(Intercept) & 2.4926 & 0.1599 & 15.59 & <1e-54 & 1.1729 & 0.6419 \\\\\n",
       "trial: neutr & -0.4403 & 0.0862 & -5.11 & <1e-06 &   & 0.2264 \\\\\n",
       "condition: mimicry & 0.2823 & 0.1973 & 1.43 & 0.1524 &   & 0.6979 \\\\\n",
       "condition: pentask & -0.3667 & 0.1678 & -2.19 & 0.0288 &   & 0.5509 \\\\\n",
       "image: present & 0.3369 & 0.1830 & 1.84 & 0.0656 &   & 0.5749 \\\\\n",
       "trial: neutr \\& condition: mimicry & -0.1813 & 0.1146 & -1.58 & 0.1136 &   & 0.2620 \\\\\n",
       "trial: neutr \\& condition: pentask & 0.4540 & 0.1242 & 3.66 & 0.0003 &   & 0.3979 \\\\\n",
       "trial: neutr \\& image: present & 0.0899 & 0.1534 & 0.59 & 0.5578 &   & 0.5213 \\\\\n",
       "condition: mimicry \\& image: present & -0.0214 & 0.2980 & -0.07 & 0.9427 &   &   \\\\\n",
       "condition: pentask \\& image: present & -0.2103 & 0.2570 & -0.82 & 0.4133 &   &   \\\\\n",
       "trial: neutr \\& condition: mimicry \\& image: present & 0.1777 & 0.2064 & 0.86 & 0.3892 &   &   \\\\\n",
       "trial: neutr \\& condition: pentask \\& image: present & -0.2007 & 0.1995 & -1.01 & 0.3143 &   &   \\\\\n",
       "image: present \\& condition: mimicry &  &  &  &  &   & 1.1071 \\\\\n",
       "image: present \\& condition: pentask &  &  &  &  &   & 0.8927 \\\\\n",
       "trial: neutr \\& image: present \\& condition: mimicry &  &  &  &  &   & 0.6962 \\\\\n",
       "trial: neutr \\& image: present \\& condition: pentask &  &  &  &  &   & 0.6953 \\\\\n",
       "Residual & 0.7637 &  &  &  &  &  \\\\\n",
       "\\end{tabular}\n"
      ],
      "text/markdown": [
       "|                                                    |    Est. |     SE |     z |      p | σ_ResponseId |  σ_lab |\n",
       "|:-------------------------------------------------- | -------:| ------:| -----:| ------:| ------------:| ------:|\n",
       "| (Intercept)                                        |  2.4926 | 0.1599 | 15.59 | <1e-54 |       1.1729 | 0.6419 |\n",
       "| trial: neutr                                       | -0.4403 | 0.0862 | -5.11 | <1e-06 |              | 0.2264 |\n",
       "| condition: mimicry                                 |  0.2823 | 0.1973 |  1.43 | 0.1524 |              | 0.6979 |\n",
       "| condition: pentask                                 | -0.3667 | 0.1678 | -2.19 | 0.0288 |              | 0.5509 |\n",
       "| image: present                                     |  0.3369 | 0.1830 |  1.84 | 0.0656 |              | 0.5749 |\n",
       "| trial: neutr & condition: mimicry                  | -0.1813 | 0.1146 | -1.58 | 0.1136 |              | 0.2620 |\n",
       "| trial: neutr & condition: pentask                  |  0.4540 | 0.1242 |  3.66 | 0.0003 |              | 0.3979 |\n",
       "| trial: neutr & image: present                      |  0.0899 | 0.1534 |  0.59 | 0.5578 |              | 0.5213 |\n",
       "| condition: mimicry & image: present                | -0.0214 | 0.2980 | -0.07 | 0.9427 |              |        |\n",
       "| condition: pentask & image: present                | -0.2103 | 0.2570 | -0.82 | 0.4133 |              |        |\n",
       "| trial: neutr & condition: mimicry & image: present |  0.1777 | 0.2064 |  0.86 | 0.3892 |              |        |\n",
       "| trial: neutr & condition: pentask & image: present | -0.2007 | 0.1995 | -1.01 | 0.3143 |              |        |\n",
       "| image: present & condition: mimicry                |         |        |       |        |              | 1.1071 |\n",
       "| image: present & condition: pentask                |         |        |       |        |              | 0.8927 |\n",
       "| trial: neutr & image: present & condition: mimicry |         |        |       |        |              | 0.6962 |\n",
       "| trial: neutr & image: present & condition: pentask |         |        |       |        |              | 0.6953 |\n",
       "| Residual                                           |  0.7637 |        |       |        |              |        |\n"
      ],
      "text/plain": [
       "Linear mixed model fit by maximum likelihood\n",
       " happiness ~ 1 + trial + condition + image + trial & condition + trial & image + condition & image + trial & condition & image + (1 | ResponseId) + (1 + trial + image + trial & image + condition + trial & condition + image & condition + trial & image & condition | lab)\n",
       "   logLik   -2 logLik     AIC       AICc        BIC    \n",
       " -4834.9274  9669.8547  9853.8547  9859.7251 10406.6856\n",
       "\n",
       "Variance components:\n",
       "                                 Column                       Variance Std.Dev.   Corr.\n",
       "ResponseId (Intercept)                                         1.375650 1.172881\n",
       "lab        (Intercept)                                         0.412049 0.641910\n",
       "           trial: neutr                                        0.051261 0.226410 -0.64\n",
       "           image: present                                      0.330463 0.574860 -0.83 +0.32\n",
       "           trial: neutr & image: present                       0.271774 0.521319 +0.85 -0.33 -0.96\n",
       "           condition: mimicry                                  0.487033 0.697877 -0.54 +0.38 +0.58 -0.66\n",
       "           condition: pentask                                  0.303482 0.550892 -0.78 +0.57 +0.81 -0.72 +0.76\n",
       "           trial: neutr & condition: mimicry                   0.068660 0.262030 +0.87 -0.75 -0.80 +0.80 -0.79 -0.92\n",
       "           trial: neutr & condition: pentask                   0.158288 0.397854 +0.97 -0.76 -0.68 +0.71 -0.52 -0.75 +0.85\n",
       "           image: present & condition: mimicry                 1.225617 1.107076 +0.79 -0.40 -0.82 +0.77 -0.81 -0.96 +0.86 +0.73\n",
       "           image: present & condition: pentask                 0.796863 0.892672 +0.85 -0.41 -0.83 +0.74 -0.60 -0.92 +0.80 +0.80 +0.95\n",
       "           trial: neutr & image: present & condition: mimicry  0.484761 0.696248 -0.84 +0.39 +0.88 -0.85 +0.80 +0.94 -0.88 -0.76 -0.99 -0.95\n",
       "           trial: neutr & image: present & condition: pentask  0.483503 0.695344 -0.94 +0.39 +0.93 -0.96 +0.60 +0.76 -0.81 -0.83 -0.82 -0.85 +0.89\n",
       "Residual                                                       0.583242 0.763703\n",
       " Number of obs: 3008; levels of grouping factors: 1504, 26\n",
       "\n",
       "  Fixed-effects parameters:\n",
       "───────────────────────────────────────────────────────────────────────────────────────────\n",
       "                                                         Coef.  Std. Error      z  Pr(>|z|)\n",
       "───────────────────────────────────────────────────────────────────────────────────────────\n",
       "(Intercept)                                          2.49255     0.15993    15.59    <1e-54\n",
       "trial: neutr                                        -0.440315    0.0862079  -5.11    <1e-06\n",
       "condition: mimicry                                   0.282329    0.19727     1.43    0.1524\n",
       "condition: pentask                                  -0.366702    0.167762   -2.19    0.0288\n",
       "image: present                                       0.336938    0.18298     1.84    0.0656\n",
       "trial: neutr & condition: mimicry                   -0.181281    0.114583   -1.58    0.1136\n",
       "trial: neutr & condition: pentask                    0.454005    0.124198    3.66    0.0003\n",
       "trial: neutr & image: present                        0.0899074   0.15341     0.59    0.5578\n",
       "condition: mimicry & image: present                 -0.0214061   0.298002   -0.07    0.9427\n",
       "condition: pentask & image: present                 -0.210273    0.257047   -0.82    0.4133\n",
       "trial: neutr & condition: mimicry & image: present   0.177714    0.206366    0.86    0.3892\n",
       "trial: neutr & condition: pentask & image: present  -0.200693    0.199457   -1.01    0.3143\n",
       "───────────────────────────────────────────────────────────────────────────────────────────"
      ]
     },
     "execution_count": 49,
     "metadata": {},
     "output_type": "execute_result"
    }
   ],
   "source": [
    "using MixedModels, RCall, JellyMe4\n",
    "\n",
    "data = rcopy(R\"readRDS('data/DF.l.inc.rds')\")\n",
    "\n",
    "m = fit(MixedModel, \n",
    "    @formula(happiness ~ 1 + trial * condition * image + (1 | ResponseId) + (1 + trial*image*condition | lab)), \n",
    "    data)"
   ]
  },
  {
   "cell_type": "code",
   "execution_count": 53,
   "id": "850e61e4",
   "metadata": {},
   "outputs": [
    {
     "data": {
      "text/plain": [
       "RObject{VecSxp}\n",
       "Analysis of Variance Table\n",
       "                      npar  Sum Sq Mean Sq F value\n",
       "trial                    1 25.7060 25.7060 43.6450\n",
       "condition                2 13.0365  6.5183 11.0670\n",
       "image                    1  1.6764  1.6764  2.8462\n",
       "trial:condition          2 25.1438 12.5719 21.3452\n",
       "trial:image              1  0.1390  0.1390  0.2360\n",
       "condition:image          2  2.6252  1.3126  2.2286\n",
       "trial:condition:image    2  3.9389  1.9694  3.3438\n"
      ]
     },
     "execution_count": 53,
     "metadata": {},
     "output_type": "execute_result"
    }
   ],
   "source": [
    "output = (m, data);\n",
    "@rput output;\n",
    "R\"anova(output)\""
   ]
  },
  {
   "cell_type": "code",
   "execution_count": 62,
   "id": "702d7e4a",
   "metadata": {},
   "outputs": [
    {
     "data": {
      "text/latex": [
       "\\begin{tabular}\n",
       "{l | r | r | r | r | r | r}\n",
       " & Est. & SE & z & p & $\\sigma_\\text{ResponseId}$ & $\\sigma_\\text{lab}$ \\\\\n",
       "\\hline\n",
       "(Intercept) & 2.4456 & 0.1376 & 17.77 & <1e-69 & 1.1969 & 0.4983 \\\\\n",
       "trial: neutr & -0.4448 & 0.0731 & -6.08 & <1e-08 &   &   \\\\\n",
       "condition: mimicry & 0.3787 & 0.1338 & 2.83 & 0.0047 &   &   \\\\\n",
       "condition: pentask & -0.2828 & 0.1248 & -2.27 & 0.0234 &   &   \\\\\n",
       "image: present & 0.4563 & 0.1413 & 3.23 & 0.0012 &   &   \\\\\n",
       "trial: neutr \\& condition: mimicry & -0.2286 & 0.1030 & -2.22 & 0.0264 &   &   \\\\\n",
       "trial: neutr \\& condition: pentask & 0.4092 & 0.0962 & 4.25 & <1e-04 &   &   \\\\\n",
       "trial: neutr \\& image: present & -0.0210 & 0.1089 & -0.19 & 0.8471 &   &   \\\\\n",
       "condition: mimicry \\& image: present & -0.2804 & 0.1934 & -1.45 & 0.1471 &   &   \\\\\n",
       "condition: pentask \\& image: present & -0.3735 & 0.1834 & -2.04 & 0.0416 &   &   \\\\\n",
       "trial: neutr \\& condition: mimicry \\& image: present & 0.3524 & 0.1490 & 2.36 & 0.0180 &   &   \\\\\n",
       "trial: neutr \\& condition: pentask \\& image: present & -0.0589 & 0.1415 & -0.42 & 0.6770 &   &   \\\\\n",
       "Residual & 0.7859 &  &  &  &  &  \\\\\n",
       "\\end{tabular}\n"
      ],
      "text/markdown": [
       "|                                                    |    Est. |     SE |     z |      p | σ_ResponseId |  σ_lab |\n",
       "|:-------------------------------------------------- | -------:| ------:| -----:| ------:| ------------:| ------:|\n",
       "| (Intercept)                                        |  2.4456 | 0.1376 | 17.77 | <1e-69 |       1.1969 | 0.4983 |\n",
       "| trial: neutr                                       | -0.4448 | 0.0731 | -6.08 | <1e-08 |              |        |\n",
       "| condition: mimicry                                 |  0.3787 | 0.1338 |  2.83 | 0.0047 |              |        |\n",
       "| condition: pentask                                 | -0.2828 | 0.1248 | -2.27 | 0.0234 |              |        |\n",
       "| image: present                                     |  0.4563 | 0.1413 |  3.23 | 0.0012 |              |        |\n",
       "| trial: neutr & condition: mimicry                  | -0.2286 | 0.1030 | -2.22 | 0.0264 |              |        |\n",
       "| trial: neutr & condition: pentask                  |  0.4092 | 0.0962 |  4.25 | <1e-04 |              |        |\n",
       "| trial: neutr & image: present                      | -0.0210 | 0.1089 | -0.19 | 0.8471 |              |        |\n",
       "| condition: mimicry & image: present                | -0.2804 | 0.1934 | -1.45 | 0.1471 |              |        |\n",
       "| condition: pentask & image: present                | -0.3735 | 0.1834 | -2.04 | 0.0416 |              |        |\n",
       "| trial: neutr & condition: mimicry & image: present |  0.3524 | 0.1490 |  2.36 | 0.0180 |              |        |\n",
       "| trial: neutr & condition: pentask & image: present | -0.0589 | 0.1415 | -0.42 | 0.6770 |              |        |\n",
       "| Residual                                           |  0.7859 |        |       |        |              |        |\n"
      ],
      "text/plain": [
       "Linear mixed model fit by maximum likelihood\n",
       " happiness ~ 1 + trial + condition + image + trial & condition + trial & image + condition & image + trial & condition & image + (1 | ResponseId) + (1 | lab)\n",
       "   logLik   -2 logLik     AIC       AICc        BIC    \n",
       " -4870.9345  9741.8689  9771.8689  9772.0294  9862.0044\n",
       "\n",
       "Variance components:\n",
       "              Column   Variance Std.Dev. \n",
       "ResponseId (Intercept)  1.432464 1.196856\n",
       "lab        (Intercept)  0.248275 0.498272\n",
       "Residual                0.617708 0.785944\n",
       " Number of obs: 3008; levels of grouping factors: 1504, 26\n",
       "\n",
       "  Fixed-effects parameters:\n",
       "───────────────────────────────────────────────────────────────────────────────────────────\n",
       "                                                         Coef.  Std. Error      z  Pr(>|z|)\n",
       "───────────────────────────────────────────────────────────────────────────────────────────\n",
       "(Intercept)                                          2.44556     0.137609   17.77    <1e-69\n",
       "trial: neutr                                        -0.444805    0.0731309  -6.08    <1e-08\n",
       "condition: mimicry                                   0.378726    0.133844    2.83    0.0047\n",
       "condition: pentask                                  -0.282812    0.12476    -2.27    0.0234\n",
       "image: present                                       0.456264    0.141319    3.23    0.0012\n",
       "trial: neutr & condition: mimicry                   -0.228599    0.102982   -2.22    0.0264\n",
       "trial: neutr & condition: pentask                    0.409204    0.0962168   4.25    <1e-04\n",
       "trial: neutr & image: present                       -0.0209843   0.108859   -0.19    0.8471\n",
       "condition: mimicry & image: present                 -0.280389    0.1934     -1.45    0.1471\n",
       "condition: pentask & image: present                 -0.373517    0.183362   -2.04    0.0416\n",
       "trial: neutr & condition: mimicry & image: present   0.352446    0.149038    2.36    0.0180\n",
       "trial: neutr & condition: pentask & image: present  -0.0589317   0.141492   -0.42    0.6770\n",
       "───────────────────────────────────────────────────────────────────────────────────────────"
      ]
     },
     "execution_count": 62,
     "metadata": {},
     "output_type": "execute_result"
    }
   ],
   "source": [
    "m = fit(MixedModel, \n",
    "    @formula(happiness ~ trial * condition * image + (1 | ResponseId) + (1 | lab)), \n",
    "    data)"
   ]
  },
  {
   "cell_type": "code",
   "execution_count": 63,
   "id": "26f72356",
   "metadata": {},
   "outputs": [
    {
     "data": {
      "text/plain": [
       "RObject{VecSxp}\n",
       "Analysis of Variance Table\n",
       "                      npar Sum Sq Mean Sq  F value\n",
       "trial                    1 75.641  75.641 122.4547\n",
       "condition                2 22.642  11.321  18.3271\n",
       "image                    1  8.223   8.223  13.3127\n",
       "trial:condition          2 30.333  15.166  24.5526\n",
       "trial:image              1  0.850   0.850   1.3768\n",
       "condition:image          2  4.030   2.015   3.2624\n",
       "trial:condition:image    2  6.205   3.102   5.0224\n"
      ]
     },
     "execution_count": 63,
     "metadata": {},
     "output_type": "execute_result"
    }
   ],
   "source": [
    "# output\n",
    "output = (m, data);\n",
    "@rput output;\n",
    "R\"library(lmerTest)\"\n",
    "R\"anova(output)\""
   ]
  }
 ],
 "metadata": {
  "kernelspec": {
   "display_name": "Julia 1.6.2",
   "language": "julia",
   "name": "julia-1.6"
  },
  "language_info": {
   "file_extension": ".jl",
   "mimetype": "application/julia",
   "name": "julia",
   "version": "1.6.2"
  }
 },
 "nbformat": 4,
 "nbformat_minor": 5
}
