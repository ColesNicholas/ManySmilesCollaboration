{
 "cells": [
  {
   "cell_type": "markdown",
   "id": "76b650f1",
   "metadata": {},
   "source": [
    "# Setup Julia "
   ]
  },
  {
   "cell_type": "markdown",
   "id": "c5c6ceca",
   "metadata": {},
   "source": [
    "Note: When using the R package lme4, the fully maximal models often (a) fit extermely slowly, and (b) fail to converge. Following advice by Mika Braginsky (personal communication) and Douglas Bates (https://rpubs.com/dmbates/377897), we fit the models using the MixedModels package in Julia, which is faster and more likely to converge.\n",
    "\n",
    "To allow the fit models to interface with convienant packages available in R, we used the RCall package to push fitted models to a remote R environment."
   ]
  },
  {
   "cell_type": "code",
   "execution_count": null,
   "id": "0e52592a",
   "metadata": {},
   "outputs": [],
   "source": [
    "# add packages if you have not done so already\n",
    "    ## using Pkg\n",
    "    ## Pkg.add(\"MixedModels\")\n",
    "    ## Pkg.add(\"RCall\")\n",
    "    ## Pkg.add(\"JellyMe4\")\n",
    "\n",
    "# load Julia packages\n",
    "using MixedModels, RCall, JellyMe4;\n",
    "\n",
    "# load R packages\n",
    "R\"library(emmeans)\";\n",
    "R\"library(lme4)\";\n",
    "R\"options(contrasts = c('contr.sum', 'contr.poly'))\";\n",
    "\n",
    "# set lmer environment to mimic lmerTest\n",
    "ENV[\"LMER\"] = \"lmerTest::lmer\";"
   ]
  },
  {
   "cell_type": "markdown",
   "id": "7a5edd0a",
   "metadata": {},
   "source": [
    "## Primary analyses"
   ]
  },
  {
   "cell_type": "code",
   "execution_count": null,
   "id": "702d7e4a",
   "metadata": {},
   "outputs": [],
   "source": [
    "# open data\n",
    "data = rcopy(R\"readRDS('data/DF.l.inc.rds')\");\n",
    "\n",
    "# set up effect coding function\n",
    "EC = EffectsCoding();\n",
    "\n",
    "# fit model\n",
    "m = \n",
    "fit(MixedModel, \n",
    "    @formula(happiness ~ trial * condition * image + (1 | ResponseId) + (1 + trial * condition * image | lab)), \n",
    "    data,\n",
    "    contrasts = Dict(:trial => EC, :condition => EC, :image => EC))"
   ]
  },
  {
   "cell_type": "code",
   "execution_count": null,
   "id": "c3e081f8",
   "metadata": {},
   "outputs": [],
   "source": [
    "# save output to R\n",
    "r_m = (m, data);\n",
    "@rput r_m;\n",
    "# R\"r_m <- as_lmerModLmerTest(r_m)\""
   ]
  },
  {
   "cell_type": "code",
   "execution_count": null,
   "id": "32a7fbc3",
   "metadata": {},
   "outputs": [],
   "source": [
    "Results"
   ]
  },
  {
   "cell_type": "code",
   "execution_count": null,
   "id": "c5bdba00",
   "metadata": {},
   "outputs": [],
   "source": [
    "R\"summary(r_m)\""
   ]
  },
  {
   "cell_type": "code",
   "execution_count": null,
   "id": "26f72356",
   "metadata": {},
   "outputs": [],
   "source": [
    "# ANOVA table\n",
    "R\"joint_tests(r_m, \n",
    "              lmerTest.limit = 9999)\""
   ]
  },
  {
   "cell_type": "code",
   "execution_count": null,
   "id": "03ee6da8",
   "metadata": {},
   "outputs": [],
   "source": [
    "# joint tests by condition\n",
    "R\"joint_tests(r_m, \n",
    "              by = 'condition',\n",
    "              lmerTest.limit = 9999)\""
   ]
  },
  {
   "cell_type": "code",
   "execution_count": null,
   "id": "e7d0cc81",
   "metadata": {},
   "outputs": [],
   "source": [
    "# joint tests by condition and image\n",
    "R\"joint_tests(r_m, \n",
    "              by = c('image', 'condition'),\n",
    "              lmerTest.limit = 9999)\""
   ]
  },
  {
   "cell_type": "code",
   "execution_count": null,
   "id": "178f61a3",
   "metadata": {},
   "outputs": [],
   "source": [
    "R\"emmeans(r_m, \n",
    "          pairwise ~ trial | image | condition,\n",
    "          adjust = 'none')\""
   ]
  },
  {
   "cell_type": "code",
   "execution_count": null,
   "id": "1017bfe6",
   "metadata": {
    "scrolled": true
   },
   "outputs": [],
   "source": []
  },
  {
   "cell_type": "markdown",
   "id": "3ff86d91",
   "metadata": {},
   "source": [
    "## Facial pose vs. filler"
   ]
  },
  {
   "cell_type": "code",
   "execution_count": null,
   "id": "15b4c46b",
   "metadata": {},
   "outputs": [],
   "source": [
    "# open data\n",
    "R\"data <- readRDS('data/DF.l.full.rds')\";\n",
    "R\"data <- data[data$inc == 1 & data$inc.awa == 1, ]\";\n",
    "R\"data <- data[data$image == \"absentt\", ]\";\n",
    "data = rcopy(R\"data\");"
   ]
  },
  {
   "cell_type": "code",
   "execution_count": null,
   "id": "008d0d13",
   "metadata": {},
   "outputs": [],
   "source": [
    "R\"contrasts(data$trial)\""
   ]
  },
  {
   "cell_type": "code",
   "execution_count": null,
   "id": "1a90c559",
   "metadata": {},
   "outputs": [],
   "source": [
    "# fit model\n",
    "m = \n",
    "fit(MixedModel, \n",
    "    @formula(happiness ~ trial * condition + (1 | ResponseId) + (1 + trial * condition | lab)), \n",
    "    data,\n",
    "    contrasts = Dict(:trial => EC, :condition => EC))"
   ]
  },
  {
   "cell_type": "code",
   "execution_count": null,
   "id": "694c4479",
   "metadata": {},
   "outputs": [],
   "source": [
    "# save output to R\n",
    "r_m = (m, data);\n",
    "@rput r_m;\n",
    "R\"r_m <- as_lmerModLmerTest(r_m)\""
   ]
  }
 ],
 "metadata": {
  "kernelspec": {
   "display_name": "Julia 1.6.2",
   "language": "julia",
   "name": "julia-1.6"
  },
  "language_info": {
   "file_extension": ".jl",
   "mimetype": "application/julia",
   "name": "julia",
   "version": "1.6.2"
  }
 },
 "nbformat": 4,
 "nbformat_minor": 5
}
